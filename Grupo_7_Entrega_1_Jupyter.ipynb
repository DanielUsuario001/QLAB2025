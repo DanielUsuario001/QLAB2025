{
  "cells": [
    {
      "cell_type": "markdown",
      "id": "2a44fd1e",
      "metadata": {
        "id": "2a44fd1e"
      },
      "source": [
        "# Tarea 1\n"
      ]
    },
    {
      "cell_type": "markdown",
      "id": "bdacefa6",
      "metadata": {
        "id": "bdacefa6"
      },
      "source": [
        "Fecha de entrega:\n",
        "Jueves 7 de agosto, 2025, 11:59pm\n",
        "\n",
        "Comentarios generales:\n",
        "\n",
        "- No olvidar que python usa el snake_case (o minúsculas separadas por subguión) para llamar a sus variables.\n",
        "- No nombrar variables con acentos porque algunas veces, dependiendo de la máquina en la que se corra, esto será aceptado o no.\n",
        "- Leer  claramente qué es lo que pide la pregunta.  \n",
        "   \n"
      ]
    },
    {
      "cell_type": "markdown",
      "id": "80152401",
      "metadata": {
        "id": "80152401"
      },
      "source": [
        "Ejemplo:  Utilizando sólo los siguientes inputs numéricos: ```5``` y ```2```  , maneje los operadores tal que el output sea ```120```. Crea una variable con el resultado."
      ]
    },
    {
      "cell_type": "code",
      "execution_count": 46,
      "metadata": {
        "outputId": "6968bf40-7ed6-4590-f234-ba3b5dc3d4a4",
        "id": "uAeG6614stB0",
        "colab": {
          "base_uri": "https://localhost:8080/"
        }
      },
      "outputs": [
        {
          "output_type": "execute_result",
          "data": {
            "text/plain": [
              "120"
            ]
          },
          "metadata": {},
          "execution_count": 46
        }
      ],
      "source": [
        "output = (5*2)**2 + 5*2**2\n",
        "output"
      ],
      "id": "uAeG6614stB0"
    },
    {
      "cell_type": "markdown",
      "id": "a8018627",
      "metadata": {
        "id": "a8018627"
      },
      "source": [
        "1.  Utilizando sólo los siguientes inputs: ```5``` y ```2```  , maneje los operadores tal que el output sea ```100```"
      ]
    },
    {
      "cell_type": "code",
      "execution_count": 47,
      "id": "1f723e46",
      "metadata": {
        "id": "1f723e46",
        "colab": {
          "base_uri": "https://localhost:8080/"
        },
        "outputId": "17529101-465f-45a5-c7ff-1138a4c9f485"
      },
      "outputs": [
        {
          "output_type": "execute_result",
          "data": {
            "text/plain": [
              "100"
            ]
          },
          "metadata": {},
          "execution_count": 47
        }
      ],
      "source": [
        "output_1 = (5 * 2) ** 2\n",
        "output_1\n"
      ]
    },
    {
      "cell_type": "markdown",
      "id": "994dc4bc",
      "metadata": {
        "id": "994dc4bc"
      },
      "source": [
        "2. Evalúa que el output del ejemplo sea mayor al output de 1. Crea una variable con esta evaluación (Hint: Será un booleano)."
      ]
    },
    {
      "cell_type": "code",
      "execution_count": 48,
      "id": "b8928779",
      "metadata": {
        "id": "b8928779",
        "colab": {
          "base_uri": "https://localhost:8080/"
        },
        "outputId": "be23e50d-3706-4404-fd49-7048773541df"
      },
      "outputs": [
        {
          "output_type": "execute_result",
          "data": {
            "text/plain": [
              "True"
            ]
          },
          "metadata": {},
          "execution_count": 48
        }
      ],
      "source": [
        "output_ejemplo = (5 * 2)**2 + 5 * 2**2\n",
        "output = output_ejemplo > output_1\n",
        "output\n"
      ]
    },
    {
      "cell_type": "markdown",
      "id": "69918902",
      "metadata": {
        "id": "69918902"
      },
      "source": [
        "3. Utilizando sólo los siguientes inputs: ```51``` maneja los operadores tal que el output sea ```0```"
      ]
    },
    {
      "cell_type": "code",
      "execution_count": 49,
      "id": "4dcc2afa",
      "metadata": {
        "id": "4dcc2afa",
        "colab": {
          "base_uri": "https://localhost:8080/"
        },
        "outputId": "cdb8d7cc-bc44-4cb3-d638-69acc552b4b6"
      },
      "outputs": [
        {
          "output_type": "execute_result",
          "data": {
            "text/plain": [
              "0"
            ]
          },
          "metadata": {},
          "execution_count": 49
        }
      ],
      "source": [
        "output = 51 % 51\n",
        "output\n"
      ]
    },
    {
      "cell_type": "markdown",
      "id": "97cf5786",
      "metadata": {
        "id": "97cf5786"
      },
      "source": [
        "4.  Utilizando sólo los siguientes inputs: ```2``` (todos los 2 que necesites) maneja los operadores tal que el output sea ```5```"
      ]
    },
    {
      "cell_type": "code",
      "execution_count": 50,
      "id": "418fdb47",
      "metadata": {
        "id": "418fdb47",
        "colab": {
          "base_uri": "https://localhost:8080/"
        },
        "outputId": "93a5ff9c-46ba-497f-ece1-cec648d63c3f"
      },
      "outputs": [
        {
          "output_type": "execute_result",
          "data": {
            "text/plain": [
              "5"
            ]
          },
          "metadata": {},
          "execution_count": 50
        }
      ],
      "source": [
        "output = 2 + 2 + 2 - 1\n",
        "output\n"
      ]
    },
    {
      "cell_type": "markdown",
      "id": "178e7ec3",
      "metadata": {
        "id": "178e7ec3"
      },
      "source": [
        "5. Crea una variable ```x``` y una variable ```y``` que sumen 2500. Crea una variable ```v``` que dé un booleano, tal que evalúe que ```x + y``` sea igual a 2200."
      ]
    },
    {
      "cell_type": "code",
      "execution_count": 51,
      "id": "0e75e524",
      "metadata": {
        "id": "0e75e524",
        "colab": {
          "base_uri": "https://localhost:8080/"
        },
        "outputId": "c8a56296-50b5-408e-c497-9fff7e7c6c7d"
      },
      "outputs": [
        {
          "output_type": "execute_result",
          "data": {
            "text/plain": [
              "False"
            ]
          },
          "metadata": {},
          "execution_count": 51
        }
      ],
      "source": [
        "x = 1000\n",
        "y = 1500\n",
        "v = (x + y == 2200)\n",
        "v\n"
      ]
    },
    {
      "cell_type": "markdown",
      "id": "163e5332",
      "metadata": {
        "id": "163e5332"
      },
      "source": [
        "6. Cree una variable ```z``` y una variable ```a``` que sumen 1000."
      ]
    },
    {
      "cell_type": "code",
      "execution_count": 52,
      "id": "846bea9d",
      "metadata": {
        "id": "846bea9d",
        "colab": {
          "base_uri": "https://localhost:8080/"
        },
        "outputId": "dc91b290-8497-43ed-a82e-c00372579aee"
      },
      "outputs": [
        {
          "output_type": "execute_result",
          "data": {
            "text/plain": [
              "1000"
            ]
          },
          "metadata": {},
          "execution_count": 52
        }
      ],
      "source": [
        "z = 600\n",
        "a = 400\n",
        "z + a\n"
      ]
    },
    {
      "cell_type": "markdown",
      "id": "c222c968",
      "metadata": {
        "id": "c222c968"
      },
      "source": [
        "7. Calcula cuántas horas trabajan en total los 130 congresistas de nuestro país en un año. Asume que trabajan 40 horas a la semana, por 48 semanas al año (considerando que tienen vacaciones y no trabajan sobretiempo)."
      ]
    },
    {
      "cell_type": "code",
      "execution_count": 45,
      "id": "5deb8908",
      "metadata": {
        "id": "5deb8908",
        "colab": {
          "base_uri": "https://localhost:8080/"
        },
        "outputId": "7f93fbc4-1dbf-446d-a986-dc9f6631d1a6"
      },
      "outputs": [
        {
          "output_type": "stream",
          "name": "stdout",
          "text": [
            "Horas de trabajo anual por congresista: 1920\n",
            "Horas de trabajo anual total de los 130 congresistas: 249600\n"
          ]
        }
      ],
      "source": [
        "horas_de_trabajo_por_semana = 40\n",
        "semanas_de_trabajo_por_año = 48\n",
        "numero_de_congresistas = 130\n",
        "\n",
        "horas_de_trabajo_anual_por_congresista = horas_de_trabajo_por_semana * semanas_de_trabajo_por_año\n",
        "print(\"Horas de trabajo anual por congresista:\", horas_de_trabajo_anual_por_congresista)\n",
        "\n",
        "horas_de_trabajo_anual_total = horas_de_trabajo_anual_por_congresista * numero_de_congresistas\n",
        "print(\"Horas de trabajo anual total de los 130 congresistas:\", horas_de_trabajo_anual_total)\n"
      ]
    },
    {
      "cell_type": "markdown",
      "id": "80e32ec2",
      "metadata": {
        "id": "80e32ec2"
      },
      "source": [
        "8. Ahora calcula el salario de un congresista por hora. Los supuestos del anterior ejercicio se mantienen (Se puede pasar por alto las vacaciones). Cabe recordar que los congresistas ganan 15,600 soles mensuales.   \n",
        "- Crea una variable para el salario por hora de un congresista.   \n",
        "- Crea una variable para la suma de los salarios por hora de los 130 congresistas.\n"
      ]
    },
    {
      "cell_type": "code",
      "execution_count": 42,
      "id": "6d98f342",
      "metadata": {
        "id": "6d98f342",
        "colab": {
          "base_uri": "https://localhost:8080/"
        },
        "outputId": "b60fc94b-9285-4332-9dbc-4c3174bc35a5"
      },
      "outputs": [
        {
          "output_type": "stream",
          "name": "stdout",
          "text": [
            "Salario por hora de un congresista: 97.5\n",
            "Suma de salarios por hora de los 130 congresistas: 12675.0\n"
          ]
        }
      ],
      "source": [
        "salario_mensual_por_congresista = 15600\n",
        "numero_de_semanas = 4\n",
        "horas_de_trabajo_por_semana = 40\n",
        "\n",
        "salario_por_hora = salario_mensual_por_congresista / (numero_de_semanas * horas_de_trabajo_por_semana)\n",
        "print(\"Salario por hora de un congresista:\", salario_por_hora)\n",
        "\n",
        "total_salarios_por_hora = salario_por_hora * 130\n",
        "print(\"Suma de salarios por hora de los 130 congresistas:\", total_salarios_por_hora)\n",
        "\n"
      ]
    },
    {
      "cell_type": "markdown",
      "id": "ae512853",
      "metadata": {
        "id": "ae512853"
      },
      "source": [
        "9. Con la reducción del IGV para restaurantes y hoteles (https://emprender.sunat.gob.pe/tributando/temas-actualidad/reduccion-igv-para-restaurantes-hoteles), los restaurantes pagan el 10% de IGV. Un restaurante factura 3426 soles diarios, en promedio, después de impuestos. Calcule el valor base (el IGV es 10% sobre el valor base, ó 1 + .1).\n",
        "\n",
        "Calcule, utilizando el valor base, cuánto es el descuento del IGV en soles (o el 8% de este valor base).\n",
        "\n",
        "Cree una variable para cada uno de los siguientes:\n",
        "- porcentaje de IGV\n",
        "- el total de facturación\n",
        "- el monto del impuesto\n",
        "- el valor base sin impuesto\n",
        "- el descuento de IGV en soles. Puedes comprobar tu fórmula con cualquier recibo de pago que detalle el IGV."
      ]
    },
    {
      "cell_type": "code",
      "execution_count": 39,
      "id": "51599f11",
      "metadata": {
        "id": "51599f11",
        "colab": {
          "base_uri": "https://localhost:8080/"
        },
        "outputId": "fef6c763-9aee-43c3-b30c-1784528059e5"
      },
      "outputs": [
        {
          "output_type": "stream",
          "name": "stdout",
          "text": [
            "Valor base sin impuesto: 3114.55\n",
            "Monto del IGV: 311.46\n",
            "El descuento es: 249.16\n"
          ]
        }
      ],
      "source": [
        "facturacion_diaria_promedio_despues_de_impuestos = 3426\n",
        "porcentaje_de_IGV = 0.1\n",
        "porcentaje_descuento_igv = 0.08\n",
        "\n",
        "valor_base_sin_impuesto = round(facturacion_diaria_promedio_despues_de_impuestos / (1 + porcentaje_de_IGV), 2)\n",
        "print(\"Valor base sin impuesto:\", valor_base_sin_impuesto)\n",
        "\n",
        "monto_igv = round(valor_base_sin_impuesto * porcentaje_de_IGV, 2)\n",
        "print(\"Monto del IGV:\", monto_igv)\n",
        "\n",
        "descuento_igv = round(valor_base_sin_impuesto * porcentaje_descuento_igv, 2)\n",
        "print(\"El descuento es:\", descuento_igv)\n",
        "\n",
        "\n"
      ]
    },
    {
      "cell_type": "markdown",
      "id": "69f6e4f9",
      "metadata": {
        "id": "69f6e4f9"
      },
      "source": [
        "10.  Cristina percibe el sueldo mínimo (1130 soles). Compruebe que el salario anual de Cristina es menor al salario anual de un congresista, usando operadores de comparación y una expresión que detalle el monto mensual y el número de meses trabajados de ambos. La comparación debe ser ser evaluada a un booleano"
      ]
    },
    {
      "cell_type": "code",
      "execution_count": 53,
      "id": "cc09bc62",
      "metadata": {
        "id": "cc09bc62",
        "colab": {
          "base_uri": "https://localhost:8080/"
        },
        "outputId": "895b51b7-739a-4c28-d2c4-22d9246871b2"
      },
      "outputs": [
        {
          "output_type": "stream",
          "name": "stdout",
          "text": [
            " 13560 < 187200 es True \n"
          ]
        }
      ],
      "source": [
        "mesesAño = 12\n",
        "\n",
        "salarioCristina = 1130\n",
        "salarioCongresista = 15600 # Dato buscado en fuente externa al enunciado\n",
        "\n",
        "salarioCristina_anual = salarioCristina*mesesAño\n",
        "salarioCongresista_anual = salarioCongresista*mesesAño\n",
        "\n",
        "comparacion = salarioCristina_anual < salarioCongresista_anual\n",
        "\n",
        "print(f\" {salarioCristina_anual} < \" f\"{salarioCongresista_anual} es {comparacion} \")\n"
      ]
    },
    {
      "cell_type": "markdown",
      "id": "37de8248",
      "metadata": {
        "id": "37de8248"
      },
      "source": [
        "11. Una conocida petrolera debe volver a compensar a  1023 familias que se dedican a la pesca por la contaminación causada en el mar donde pescan. El nuevo monto negociado es de 1200 millones de soles, sin embargo, una cláusula del contrato dice que el monto de compensación tiene que ser un número entero. ¿Cuántos soles adicionales se le  tiene  que agregar al monto negociado para que las familias reciban una cantidad entera,  asumiendo que para lograr este número entero, hay que elevar el monto total? (Pista: Acuérdate del  floor y el módulo)."
      ]
    },
    {
      "cell_type": "code",
      "execution_count": 54,
      "id": "948141a9",
      "metadata": {
        "id": "948141a9",
        "colab": {
          "base_uri": "https://localhost:8080/"
        },
        "outputId": "b55d0bc2-c3eb-4f4b-e525-287ed879a9b5"
      },
      "outputs": [
        {
          "output_type": "stream",
          "name": "stdout",
          "text": [
            "Sobran: 540 soles\n",
            "Soles adicionales necesarios: 483\n",
            "Cada familia recibirá: 1173021 soles\n"
          ]
        }
      ],
      "source": [
        "familias = 1023\n",
        "montoNegociado = 1200000000\n",
        "\n",
        "resto = montoNegociado % familias\n",
        "print(f\"Sobran: {resto} soles\")\n",
        "\n",
        "# Lo que falta analizar\n",
        "adicional = familias - resto\n",
        "print(f\"Soles adicionales necesarios: {adicional}\")\n",
        "\n",
        "nuevoMOnto = montoNegociado + adicional\n",
        "solesFamilia = nuevoMOnto // familias\n",
        "print(f\"Cada familia recibirá: {solesFamilia} soles\")\n"
      ]
    },
    {
      "cell_type": "markdown",
      "id": "75a0de8e",
      "metadata": {
        "id": "75a0de8e"
      },
      "source": [
        "12. Crea una variable igual a una lista que contenga:\n",
        "- un string,\n",
        "- un booleano,\n",
        "- dos valores numéricos (de cualquier tipo) y\n",
        "- una lista de dos strings con el nombre de tus artistas musicales favoritos."
      ]
    },
    {
      "cell_type": "code",
      "execution_count": 55,
      "id": "721f56c9",
      "metadata": {
        "id": "721f56c9",
        "colab": {
          "base_uri": "https://localhost:8080/"
        },
        "outputId": "86f210fe-be34-44f9-e309-bd0a52ced015"
      },
      "outputs": [
        {
          "output_type": "stream",
          "name": "stdout",
          "text": [
            "['Bienvenido', False, 7, 3.14, ['Bale', 'Benzema', 'Cristiano']]\n",
            "<class 'str'> <class 'bool'> <class 'int'> <class 'float'> <class 'list'>\n"
          ]
        }
      ],
      "source": [
        "lista = [\n",
        "          \"Bienvenido\",\n",
        "          False,\n",
        "          7,\n",
        "          3.14,\n",
        "          [\"Bale\",\"Benzema\",\"Cristiano\"],\n",
        "]\n",
        "\n",
        "print(lista)\n",
        "\n",
        "print(type(lista[0]),\n",
        "      type(lista[1]),\n",
        "      type(lista[2]),\n",
        "      type(lista[3]),\n",
        "      type(lista[4]))"
      ]
    },
    {
      "cell_type": "markdown",
      "id": "5e64d253",
      "metadata": {
        "id": "5e64d253"
      },
      "source": [
        "13. Tenemos la siguiente lista de cursos:"
      ]
    },
    {
      "cell_type": "code",
      "execution_count": 9,
      "id": "8011eabe",
      "metadata": {
        "id": "8011eabe"
      },
      "outputs": [],
      "source": [
        "cursos = [\"Ciencia Politica\", \"Economia\", \"Antropologia\", \"Sociologia\", \"Relaciones Internacionales\"]\n"
      ]
    },
    {
      "cell_type": "markdown",
      "id": "df10d9ac",
      "metadata": {
        "id": "df10d9ac"
      },
      "source": [
        "Realiza las siguientes operaciones en bloques diferentes:\n",
        "- Calcula cuántos elementos tiene la lista."
      ]
    },
    {
      "cell_type": "code",
      "execution_count": 10,
      "id": "2610418e",
      "metadata": {
        "id": "2610418e",
        "colab": {
          "base_uri": "https://localhost:8080/"
        },
        "outputId": "d89caa27-1a8d-4d59-ac32-aa563417ee3b"
      },
      "outputs": [
        {
          "output_type": "execute_result",
          "data": {
            "text/plain": [
              "5"
            ]
          },
          "metadata": {},
          "execution_count": 10
        }
      ],
      "source": [
        "len(cursos)"
      ]
    },
    {
      "cell_type": "markdown",
      "id": "0e1e30ac",
      "metadata": {
        "id": "0e1e30ac"
      },
      "source": [
        "13.1. Agrega tres cursos adicionales de 3 formas diferentes (uno por forma):\n",
        "   - Suma (+) una lista que contenga un curso adicional.\n",
        "   - Usa el append.\n",
        "   - Usa el extend."
      ]
    },
    {
      "cell_type": "code",
      "execution_count": 11,
      "id": "dd9e9b9f",
      "metadata": {
        "id": "dd9e9b9f"
      },
      "outputs": [],
      "source": [
        "cursos = cursos + [\"Historia\"]\n",
        "cursos.append(\"Psicología\")\n",
        "cursos.extend([\"Derecho\"])"
      ]
    },
    {
      "cell_type": "markdown",
      "id": "42a424de",
      "metadata": {
        "id": "42a424de"
      },
      "source": [
        "13.2.\n",
        "- Usa la indexación para señalar a _Relaciones Internacionales_."
      ]
    },
    {
      "cell_type": "code",
      "execution_count": 12,
      "id": "a453c0fe",
      "metadata": {
        "id": "a453c0fe",
        "colab": {
          "base_uri": "https://localhost:8080/",
          "height": 36
        },
        "outputId": "dfd69524-0be1-4bc6-97e1-80978bf3fd90"
      },
      "outputs": [
        {
          "output_type": "execute_result",
          "data": {
            "text/plain": [
              "'Relaciones Internacionales'"
            ],
            "application/vnd.google.colaboratory.intrinsic+json": {
              "type": "string"
            }
          },
          "metadata": {},
          "execution_count": 12
        }
      ],
      "source": [
        "cursos[4]"
      ]
    },
    {
      "cell_type": "markdown",
      "id": "f842a7f3",
      "metadata": {
        "id": "f842a7f3"
      },
      "source": [
        "13.3.\n",
        "- Remueve el curso que menos te guste de la lista.\n"
      ]
    },
    {
      "cell_type": "code",
      "execution_count": 13,
      "id": "03d70f60",
      "metadata": {
        "id": "03d70f60",
        "colab": {
          "base_uri": "https://localhost:8080/"
        },
        "outputId": "8c04bf90-a1cf-4e60-91b1-c1253e06cb94"
      },
      "outputs": [
        {
          "output_type": "stream",
          "name": "stdout",
          "text": [
            "['Ciencia Politica', 'Economia', 'Antropologia', 'Relaciones Internacionales', 'Historia', 'Psicología', 'Derecho']\n"
          ]
        }
      ],
      "source": [
        "cursos.remove(\"Sociologia\")\n",
        "print(cursos)"
      ]
    },
    {
      "cell_type": "markdown",
      "id": "f9952c8d",
      "metadata": {
        "id": "f9952c8d"
      },
      "source": [
        "14\n",
        "Tenemos los siguientes números: 22, 27, 74.2, 16.8, 125, 80, 100.\n",
        " - Crea una lista con ellos.\n",
        " - Ordena la lista de menor a mayor.\n",
        " - Saca el promedio de los números de la lista.  \n",
        "(Realiza cada uno en bloques separados)."
      ]
    },
    {
      "cell_type": "code",
      "execution_count": 31,
      "id": "f0eb206f",
      "metadata": {
        "id": "f0eb206f"
      },
      "outputs": [],
      "source": [
        "numeros = [22, 27, 74.2, 16.8, 125, 80, 100]"
      ]
    },
    {
      "cell_type": "code",
      "source": [
        "numeros.sort()\n",
        "print(numeros)"
      ],
      "metadata": {
        "colab": {
          "base_uri": "https://localhost:8080/"
        },
        "id": "sYqM-LR6L_3S",
        "outputId": "8a8220ae-fa9d-4f3d-bf56-1628002d362d"
      },
      "id": "sYqM-LR6L_3S",
      "execution_count": 32,
      "outputs": [
        {
          "output_type": "stream",
          "name": "stdout",
          "text": [
            "[16.8, 22, 27, 74.2, 80, 100, 125]\n"
          ]
        }
      ]
    },
    {
      "cell_type": "code",
      "source": [
        "promedio = sum(numeros) / len(numeros)\n",
        "print(promedio)\n"
      ],
      "metadata": {
        "colab": {
          "base_uri": "https://localhost:8080/"
        },
        "id": "TDeEJz-IMVSV",
        "outputId": "c6dcd136-fa30-4737-f286-d0800182bf04"
      },
      "id": "TDeEJz-IMVSV",
      "execution_count": 33,
      "outputs": [
        {
          "output_type": "stream",
          "name": "stdout",
          "text": [
            "63.57142857142857\n"
          ]
        }
      ]
    },
    {
      "cell_type": "markdown",
      "id": "09559938",
      "metadata": {
        "id": "09559938"
      },
      "source": [
        "15.Utilizando un “if else” cree una estructura que evalúe “x” tal que:\n",
        "\n",
        "Si x es múltiplo de 2 imprima “Es múltiplo de 2”.\n",
        "\n",
        "Si x es múltiplo de 3 imprima “Es múltiplo de 3”\n",
        "\n",
        "Si x es múltiplo de 2 y 3 imprima “Es múltiplo de 2 y 3”\n",
        "\n",
        "Para otro caso, imprime “Otro caso”\n",
        "Muestra un ejemplo con x = 6.\n",
        "\n"
      ]
    },
    {
      "cell_type": "code",
      "execution_count": 6,
      "id": "97f32ab2",
      "metadata": {
        "id": "97f32ab2",
        "colab": {
          "base_uri": "https://localhost:8080/"
        },
        "outputId": "27f136d5-5642-4f96-e57a-c8e1fc096c41"
      },
      "outputs": [
        {
          "output_type": "stream",
          "name": "stdout",
          "text": [
            "Ingresa un número: 2\n",
            "Es múltiplo de 2\n"
          ]
        }
      ],
      "source": [
        "x = int(input(\"Ingresa un número: \"))\n",
        "\n",
        "if x % 2 == 0 and x % 3 == 0:\n",
        "    print(\"Es múltiplo de 2 y 3\")\n",
        "elif x % 2 == 0:\n",
        "    print(\"Es múltiplo de 2\")\n",
        "elif x % 3 == 0:\n",
        "    print(\"Es múltiplo de 3\")\n",
        "else:\n",
        "    print(\"Otro caso\")"
      ]
    },
    {
      "cell_type": "markdown",
      "id": "ab0213b2",
      "metadata": {
        "id": "ab0213b2"
      },
      "source": [
        "16.Crea una función llamada clasificar_edad() que reciba como parámetro la edad de una\n",
        "persona. La función debe clasificar a la persona en una de las siguientes categorías:\n",
        "\n",
        "\"Niño\" si la edad es menor de 12 años.\n",
        "\n",
        "\"Adolescente\" si la edad está entre 12 y 17 años.\n",
        "\n",
        "“Joven” si la edad está entre 18 y 24 años.\n",
        "\n",
        "\"Adulto\" si la edad está entre 25 y 64 años.\n",
        "\n",
        "\"Adulto Mayor\" si la edad es mayor o igual a 65 años.\n",
        "\n",
        "La función debe devolver la categoría correspondiente. Prueba la función con las edades de\n",
        "10, 19, 25 y 70."
      ]
    },
    {
      "cell_type": "code",
      "execution_count": 56,
      "id": "7cdc55b3",
      "metadata": {
        "id": "7cdc55b3",
        "colab": {
          "base_uri": "https://localhost:8080/"
        },
        "outputId": "ffa826cb-548f-4187-e710-cbde430e687f"
      },
      "outputs": [
        {
          "output_type": "stream",
          "name": "stdout",
          "text": [
            "Ingresa la edad: 3\n",
            "Niño\n"
          ]
        }
      ],
      "source": [
        "def clasificar_edad(edad):\n",
        "    if edad < 12:\n",
        "        return \"Niño\"\n",
        "    elif 12 <= edad <= 17:\n",
        "        return \"Adolescente\"\n",
        "    elif 18 <= edad <= 24:\n",
        "        return \"Joven\"\n",
        "    elif 25 <= edad <= 64:\n",
        "        return \"Adulto\"\n",
        "    else:\n",
        "        return \"Adulto Mayor\"\n",
        "\n",
        "edad_ingresada = int(input(\"Ingresa la edad: \"))\n",
        "print(clasificar_edad(edad_ingresada))"
      ]
    }
  ],
  "metadata": {
    "colab": {
      "provenance": []
    },
    "kernelspec": {
      "display_name": ".venv",
      "language": "python",
      "name": "python3"
    },
    "language_info": {
      "codemirror_mode": {
        "name": "ipython",
        "version": 3
      },
      "file_extension": ".py",
      "mimetype": "text/x-python",
      "name": "python",
      "nbconvert_exporter": "python",
      "pygments_lexer": "ipython3",
      "version": "3.12.10"
    }
  },
  "nbformat": 4,
  "nbformat_minor": 5
}